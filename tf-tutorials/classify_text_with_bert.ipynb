{
  "nbformat": 4,
  "nbformat_minor": 0,
  "metadata": {
    "accelerator": "GPU",
    "colab": {
      "name": "classify_text_with_bert.ipynb",
      "provenance": [],
      "collapsed_sections": [],
      "toc_visible": true
    },
    "kernelspec": {
      "display_name": "Python 3",
      "name": "python3"
    }
  },
  "cells": [
    {
      "cell_type": "markdown",
      "metadata": {
        "id": "Cb4espuLKJiA"
      },
      "source": [
        "##### Copyright 2020 The TensorFlow Hub Authors.\n"
      ]
    },
    {
      "cell_type": "code",
      "metadata": {
        "cellView": "form",
        "id": "jM3hCI1UUzar"
      },
      "source": [
        "#@title Licensed under the Apache License, Version 2.0 (the \"License\");\n",
        "# you may not use this file except in compliance with the License.\n",
        "# You may obtain a copy of the License at\n",
        "#\n",
        "# https://www.apache.org/licenses/LICENSE-2.0\n",
        "#\n",
        "# Unless required by applicable law or agreed to in writing, software\n",
        "# distributed under the License is distributed on an \"AS IS\" BASIS,\n",
        "# WITHOUT WARRANTIES OR CONDITIONS OF ANY KIND, either express or implied.\n",
        "# See the License for the specific language governing permissions and\n",
        "# limitations under the License."
      ],
      "execution_count": null,
      "outputs": []
    },
    {
      "cell_type": "markdown",
      "metadata": {
        "id": "4_NEJlxKKjyI"
      },
      "source": [
        "<table class=\"tfo-notebook-buttons\" align=\"left\">\n",
        "  <td>\n",
        "    <a target=\"_blank\" href=\"https://www.tensorflow.org/tutorials/text/classify_text_with_bert\"><img src=\"https://www.tensorflow.org/images/tf_logo_32px.png\" />View on TensorFlow.org</a>\n",
        "  </td>\n",
        "  <td>\n",
        "    <a target=\"_blank\" href=\"https://colab.research.google.com/github/tensorflow/docs/blob/master/site/en/tutorials/text/classify_text_with_bert.ipynb\"><img src=\"https://www.tensorflow.org/images/colab_logo_32px.png\" />Run in Google Colab</a>\n",
        "  </td>\n",
        "  <td>\n",
        "    <a target=\"_blank\" href=\"https://github.com/tensorflow/docs/blob/master/site/en/tutorials/text/classify_text_with_bert.ipynb\"><img src=\"https://www.tensorflow.org/images/GitHub-Mark-32px.png\" />View on GitHub</a>\n",
        "  </td>\n",
        "  <td>\n",
        "    <a href=\"https://storage.googleapis.com/tensorflow_docs/docs/site/en/tutorials/text/classify_text_with_bert.ipynb\"><img src=\"https://www.tensorflow.org/images/download_logo_32px.png\" />Download notebook</a>\n",
        "  </td>\n",
        "  <td>\n",
        "    <a href=\"https://tfhub.dev/google/collections/bert/1\"><img src=\"https://www.tensorflow.org/images/hub_logo_32px.png\" />See TF Hub model</a>\n",
        "  </td>\n",
        "</table>"
      ]
    },
    {
      "cell_type": "markdown",
      "metadata": {
        "id": "IZ6SNYq_tVVC"
      },
      "source": [
        "# Classify text with BERT\n",
        "\n",
        "This tutorial contains complete code to fine-tune BERT to perform sentiment analysis on a dataset of plain-text IMDB movie reviews.\n",
        "In addition to training a model, you will learn how to preprocess text into an appropriate format.\n",
        "\n",
        "In this notebook, you will:\n",
        "\n",
        "- Load the IMDB dataset\n",
        "- Load a BERT model from TensorFlow Hub\n",
        "- Build your own model by combining BERT with a classifier\n",
        "- Train your own model, fine-tuning BERT as part of that\n",
        "- Save your model and use it to classify sentences\n",
        "\n",
        "If you're new to working with the IMDB dataset, please see [Basic text classification](https://www.tensorflow.org/tutorials/keras/text_classification) for more details."
      ]
    },
    {
      "cell_type": "markdown",
      "metadata": {
        "id": "2PHBpLPuQdmK"
      },
      "source": [
        "## About BERT\n",
        "\n",
        "[BERT](https://arxiv.org/abs/1810.04805) and other Transformer encoder architectures have been wildly successful on a variety of tasks in NLP (natural language processing). They compute vector-space representations of natural language that are suitable for use in deep learning models. The BERT family of models uses the Transformer encoder architecture to process each token of input text in the full context of all tokens before and after, hence the name: Bidirectional Encoder Representations from Transformers. \n",
        "\n",
        "BERT models are usually pre-trained on a large corpus of text, then fine-tuned for specific tasks.\n"
      ]
    },
    {
      "cell_type": "markdown",
      "metadata": {
        "id": "SCjmX4zTCkRK"
      },
      "source": [
        "## Setup\n"
      ]
    },
    {
      "cell_type": "code",
      "metadata": {
        "id": "q-YbjCkzw0yU",
        "outputId": "023fdef6-0524-4fa1-dce2-b708de50fb2e",
        "colab": {
          "base_uri": "https://localhost:8080/"
        }
      },
      "source": [
        "# A dependency of the preprocessing for BERT inputs\n",
        "!pip install -q tensorflow-text"
      ],
      "execution_count": 1,
      "outputs": [
        {
          "output_type": "stream",
          "text": [
            "\u001b[?25l\r\u001b[K     |                                | 10kB 29.5MB/s eta 0:00:01\r\u001b[K     |▏                               | 20kB 32.9MB/s eta 0:00:01\r\u001b[K     |▎                               | 30kB 21.7MB/s eta 0:00:01\r\u001b[K     |▍                               | 40kB 24.7MB/s eta 0:00:01\r\u001b[K     |▌                               | 51kB 24.4MB/s eta 0:00:01\r\u001b[K     |▋                               | 61kB 17.3MB/s eta 0:00:01\r\u001b[K     |▊                               | 71kB 18.0MB/s eta 0:00:01\r\u001b[K     |▉                               | 81kB 19.0MB/s eta 0:00:01\r\u001b[K     |▉                               | 92kB 17.8MB/s eta 0:00:01\r\u001b[K     |█                               | 102kB 17.6MB/s eta 0:00:01\r\u001b[K     |█                               | 112kB 17.6MB/s eta 0:00:01\r\u001b[K     |█▏                              | 122kB 17.6MB/s eta 0:00:01\r\u001b[K     |█▎                              | 133kB 17.6MB/s eta 0:00:01\r\u001b[K     |█▍                              | 143kB 17.6MB/s eta 0:00:01\r\u001b[K     |█▌                              | 153kB 17.6MB/s eta 0:00:01\r\u001b[K     |█▋                              | 163kB 17.6MB/s eta 0:00:01\r\u001b[K     |█▋                              | 174kB 17.6MB/s eta 0:00:01\r\u001b[K     |█▊                              | 184kB 17.6MB/s eta 0:00:01\r\u001b[K     |█▉                              | 194kB 17.6MB/s eta 0:00:01\r\u001b[K     |██                              | 204kB 17.6MB/s eta 0:00:01\r\u001b[K     |██                              | 215kB 17.6MB/s eta 0:00:01\r\u001b[K     |██▏                             | 225kB 17.6MB/s eta 0:00:01\r\u001b[K     |██▎                             | 235kB 17.6MB/s eta 0:00:01\r\u001b[K     |██▍                             | 245kB 17.6MB/s eta 0:00:01\r\u001b[K     |██▍                             | 256kB 17.6MB/s eta 0:00:01\r\u001b[K     |██▌                             | 266kB 17.6MB/s eta 0:00:01\r\u001b[K     |██▋                             | 276kB 17.6MB/s eta 0:00:01\r\u001b[K     |██▊                             | 286kB 17.6MB/s eta 0:00:01\r\u001b[K     |██▉                             | 296kB 17.6MB/s eta 0:00:01\r\u001b[K     |███                             | 307kB 17.6MB/s eta 0:00:01\r\u001b[K     |███                             | 317kB 17.6MB/s eta 0:00:01\r\u001b[K     |███▏                            | 327kB 17.6MB/s eta 0:00:01\r\u001b[K     |███▏                            | 337kB 17.6MB/s eta 0:00:01\r\u001b[K     |███▎                            | 348kB 17.6MB/s eta 0:00:01\r\u001b[K     |███▍                            | 358kB 17.6MB/s eta 0:00:01\r\u001b[K     |███▌                            | 368kB 17.6MB/s eta 0:00:01\r\u001b[K     |███▋                            | 378kB 17.6MB/s eta 0:00:01\r\u001b[K     |███▊                            | 389kB 17.6MB/s eta 0:00:01\r\u001b[K     |███▉                            | 399kB 17.6MB/s eta 0:00:01\r\u001b[K     |████                            | 409kB 17.6MB/s eta 0:00:01\r\u001b[K     |████                            | 419kB 17.6MB/s eta 0:00:01\r\u001b[K     |████                            | 430kB 17.6MB/s eta 0:00:01\r\u001b[K     |████▏                           | 440kB 17.6MB/s eta 0:00:01\r\u001b[K     |████▎                           | 450kB 17.6MB/s eta 0:00:01\r\u001b[K     |████▍                           | 460kB 17.6MB/s eta 0:00:01\r\u001b[K     |████▌                           | 471kB 17.6MB/s eta 0:00:01\r\u001b[K     |████▋                           | 481kB 17.6MB/s eta 0:00:01\r\u001b[K     |████▊                           | 491kB 17.6MB/s eta 0:00:01\r\u001b[K     |████▊                           | 501kB 17.6MB/s eta 0:00:01\r\u001b[K     |████▉                           | 512kB 17.6MB/s eta 0:00:01\r\u001b[K     |█████                           | 522kB 17.6MB/s eta 0:00:01\r\u001b[K     |█████                           | 532kB 17.6MB/s eta 0:00:01\r\u001b[K     |█████▏                          | 542kB 17.6MB/s eta 0:00:01\r\u001b[K     |█████▎                          | 552kB 17.6MB/s eta 0:00:01\r\u001b[K     |█████▍                          | 563kB 17.6MB/s eta 0:00:01\r\u001b[K     |█████▌                          | 573kB 17.6MB/s eta 0:00:01\r\u001b[K     |█████▌                          | 583kB 17.6MB/s eta 0:00:01\r\u001b[K     |█████▋                          | 593kB 17.6MB/s eta 0:00:01\r\u001b[K     |█████▊                          | 604kB 17.6MB/s eta 0:00:01\r\u001b[K     |█████▉                          | 614kB 17.6MB/s eta 0:00:01\r\u001b[K     |██████                          | 624kB 17.6MB/s eta 0:00:01\r\u001b[K     |██████                          | 634kB 17.6MB/s eta 0:00:01\r\u001b[K     |██████▏                         | 645kB 17.6MB/s eta 0:00:01\r\u001b[K     |██████▎                         | 655kB 17.6MB/s eta 0:00:01\r\u001b[K     |██████▎                         | 665kB 17.6MB/s eta 0:00:01\r\u001b[K     |██████▍                         | 675kB 17.6MB/s eta 0:00:01\r\u001b[K     |██████▌                         | 686kB 17.6MB/s eta 0:00:01\r\u001b[K     |██████▋                         | 696kB 17.6MB/s eta 0:00:01\r\u001b[K     |██████▊                         | 706kB 17.6MB/s eta 0:00:01\r\u001b[K     |██████▉                         | 716kB 17.6MB/s eta 0:00:01\r\u001b[K     |███████                         | 727kB 17.6MB/s eta 0:00:01\r\u001b[K     |███████                         | 737kB 17.6MB/s eta 0:00:01\r\u001b[K     |███████                         | 747kB 17.6MB/s eta 0:00:01\r\u001b[K     |███████▏                        | 757kB 17.6MB/s eta 0:00:01\r\u001b[K     |███████▎                        | 768kB 17.6MB/s eta 0:00:01\r\u001b[K     |███████▍                        | 778kB 17.6MB/s eta 0:00:01\r\u001b[K     |███████▌                        | 788kB 17.6MB/s eta 0:00:01\r\u001b[K     |███████▋                        | 798kB 17.6MB/s eta 0:00:01\r\u001b[K     |███████▊                        | 808kB 17.6MB/s eta 0:00:01\r\u001b[K     |███████▉                        | 819kB 17.6MB/s eta 0:00:01\r\u001b[K     |███████▉                        | 829kB 17.6MB/s eta 0:00:01\r\u001b[K     |████████                        | 839kB 17.6MB/s eta 0:00:01\r\u001b[K     |████████                        | 849kB 17.6MB/s eta 0:00:01\r\u001b[K     |████████▏                       | 860kB 17.6MB/s eta 0:00:01\r\u001b[K     |████████▎                       | 870kB 17.6MB/s eta 0:00:01\r\u001b[K     |████████▍                       | 880kB 17.6MB/s eta 0:00:01\r\u001b[K     |████████▌                       | 890kB 17.6MB/s eta 0:00:01\r\u001b[K     |████████▋                       | 901kB 17.6MB/s eta 0:00:01\r\u001b[K     |████████▋                       | 911kB 17.6MB/s eta 0:00:01\r\u001b[K     |████████▊                       | 921kB 17.6MB/s eta 0:00:01\r\u001b[K     |████████▉                       | 931kB 17.6MB/s eta 0:00:01\r\u001b[K     |█████████                       | 942kB 17.6MB/s eta 0:00:01\r\u001b[K     |█████████                       | 952kB 17.6MB/s eta 0:00:01\r\u001b[K     |█████████▏                      | 962kB 17.6MB/s eta 0:00:01\r\u001b[K     |█████████▎                      | 972kB 17.6MB/s eta 0:00:01\r\u001b[K     |█████████▍                      | 983kB 17.6MB/s eta 0:00:01\r\u001b[K     |█████████▌                      | 993kB 17.6MB/s eta 0:00:01\r\u001b[K     |█████████▌                      | 1.0MB 17.6MB/s eta 0:00:01\r\u001b[K     |█████████▋                      | 1.0MB 17.6MB/s eta 0:00:01\r\u001b[K     |█████████▊                      | 1.0MB 17.6MB/s eta 0:00:01\r\u001b[K     |█████████▉                      | 1.0MB 17.6MB/s eta 0:00:01\r\u001b[K     |██████████                      | 1.0MB 17.6MB/s eta 0:00:01\r\u001b[K     |██████████                      | 1.1MB 17.6MB/s eta 0:00:01\r\u001b[K     |██████████▏                     | 1.1MB 17.6MB/s eta 0:00:01\r\u001b[K     |██████████▎                     | 1.1MB 17.6MB/s eta 0:00:01\r\u001b[K     |██████████▎                     | 1.1MB 17.6MB/s eta 0:00:01\r\u001b[K     |██████████▍                     | 1.1MB 17.6MB/s eta 0:00:01\r\u001b[K     |██████████▌                     | 1.1MB 17.6MB/s eta 0:00:01\r\u001b[K     |██████████▋                     | 1.1MB 17.6MB/s eta 0:00:01\r\u001b[K     |██████████▊                     | 1.1MB 17.6MB/s eta 0:00:01\r\u001b[K     |██████████▉                     | 1.1MB 17.6MB/s eta 0:00:01\r\u001b[K     |███████████                     | 1.1MB 17.6MB/s eta 0:00:01\r\u001b[K     |███████████                     | 1.2MB 17.6MB/s eta 0:00:01\r\u001b[K     |███████████                     | 1.2MB 17.6MB/s eta 0:00:01\r\u001b[K     |███████████▏                    | 1.2MB 17.6MB/s eta 0:00:01\r\u001b[K     |███████████▎                    | 1.2MB 17.6MB/s eta 0:00:01\r\u001b[K     |███████████▍                    | 1.2MB 17.6MB/s eta 0:00:01\r\u001b[K     |███████████▌                    | 1.2MB 17.6MB/s eta 0:00:01\r\u001b[K     |███████████▋                    | 1.2MB 17.6MB/s eta 0:00:01\r\u001b[K     |███████████▊                    | 1.2MB 17.6MB/s eta 0:00:01\r\u001b[K     |███████████▉                    | 1.2MB 17.6MB/s eta 0:00:01\r\u001b[K     |███████████▉                    | 1.2MB 17.6MB/s eta 0:00:01\r\u001b[K     |████████████                    | 1.3MB 17.6MB/s eta 0:00:01\r\u001b[K     |████████████                    | 1.3MB 17.6MB/s eta 0:00:01\r\u001b[K     |████████████▏                   | 1.3MB 17.6MB/s eta 0:00:01\r\u001b[K     |████████████▎                   | 1.3MB 17.6MB/s eta 0:00:01\r\u001b[K     |████████████▍                   | 1.3MB 17.6MB/s eta 0:00:01\r\u001b[K     |████████████▌                   | 1.3MB 17.6MB/s eta 0:00:01\r\u001b[K     |████████████▋                   | 1.3MB 17.6MB/s eta 0:00:01\r\u001b[K     |████████████▋                   | 1.3MB 17.6MB/s eta 0:00:01\r\u001b[K     |████████████▊                   | 1.3MB 17.6MB/s eta 0:00:01\r\u001b[K     |████████████▉                   | 1.4MB 17.6MB/s eta 0:00:01\r\u001b[K     |█████████████                   | 1.4MB 17.6MB/s eta 0:00:01\r\u001b[K     |█████████████                   | 1.4MB 17.6MB/s eta 0:00:01\r\u001b[K     |█████████████▏                  | 1.4MB 17.6MB/s eta 0:00:01\r\u001b[K     |█████████████▎                  | 1.4MB 17.6MB/s eta 0:00:01\r\u001b[K     |█████████████▍                  | 1.4MB 17.6MB/s eta 0:00:01\r\u001b[K     |█████████████▍                  | 1.4MB 17.6MB/s eta 0:00:01\r\u001b[K     |█████████████▌                  | 1.4MB 17.6MB/s eta 0:00:01\r\u001b[K     |█████████████▋                  | 1.4MB 17.6MB/s eta 0:00:01\r\u001b[K     |█████████████▊                  | 1.4MB 17.6MB/s eta 0:00:01\r\u001b[K     |█████████████▉                  | 1.5MB 17.6MB/s eta 0:00:01\r\u001b[K     |██████████████                  | 1.5MB 17.6MB/s eta 0:00:01\r\u001b[K     |██████████████                  | 1.5MB 17.6MB/s eta 0:00:01\r\u001b[K     |██████████████▏                 | 1.5MB 17.6MB/s eta 0:00:01\r\u001b[K     |██████████████▏                 | 1.5MB 17.6MB/s eta 0:00:01\r\u001b[K     |██████████████▎                 | 1.5MB 17.6MB/s eta 0:00:01\r\u001b[K     |██████████████▍                 | 1.5MB 17.6MB/s eta 0:00:01\r\u001b[K     |██████████████▌                 | 1.5MB 17.6MB/s eta 0:00:01\r\u001b[K     |██████████████▋                 | 1.5MB 17.6MB/s eta 0:00:01\r\u001b[K     |██████████████▊                 | 1.5MB 17.6MB/s eta 0:00:01\r\u001b[K     |██████████████▉                 | 1.6MB 17.6MB/s eta 0:00:01\r\u001b[K     |███████████████                 | 1.6MB 17.6MB/s eta 0:00:01\r\u001b[K     |███████████████                 | 1.6MB 17.6MB/s eta 0:00:01\r\u001b[K     |███████████████                 | 1.6MB 17.6MB/s eta 0:00:01\r\u001b[K     |███████████████▏                | 1.6MB 17.6MB/s eta 0:00:01\r\u001b[K     |███████████████▎                | 1.6MB 17.6MB/s eta 0:00:01\r\u001b[K     |███████████████▍                | 1.6MB 17.6MB/s eta 0:00:01\r\u001b[K     |███████████████▌                | 1.6MB 17.6MB/s eta 0:00:01\r\u001b[K     |███████████████▋                | 1.6MB 17.6MB/s eta 0:00:01\r\u001b[K     |███████████████▊                | 1.6MB 17.6MB/s eta 0:00:01\r\u001b[K     |███████████████▊                | 1.7MB 17.6MB/s eta 0:00:01\r\u001b[K     |███████████████▉                | 1.7MB 17.6MB/s eta 0:00:01\r\u001b[K     |████████████████                | 1.7MB 17.6MB/s eta 0:00:01\r\u001b[K     |████████████████                | 1.7MB 17.6MB/s eta 0:00:01\r\u001b[K     |████████████████▏               | 1.7MB 17.6MB/s eta 0:00:01\r\u001b[K     |████████████████▎               | 1.7MB 17.6MB/s eta 0:00:01\r\u001b[K     |████████████████▍               | 1.7MB 17.6MB/s eta 0:00:01\r\u001b[K     |████████████████▌               | 1.7MB 17.6MB/s eta 0:00:01\r\u001b[K     |████████████████▌               | 1.7MB 17.6MB/s eta 0:00:01\r\u001b[K     |████████████████▋               | 1.8MB 17.6MB/s eta 0:00:01\r\u001b[K     |████████████████▊               | 1.8MB 17.6MB/s eta 0:00:01\r\u001b[K     |████████████████▉               | 1.8MB 17.6MB/s eta 0:00:01\r\u001b[K     |█████████████████               | 1.8MB 17.6MB/s eta 0:00:01\r\u001b[K     |█████████████████               | 1.8MB 17.6MB/s eta 0:00:01\r\u001b[K     |█████████████████▏              | 1.8MB 17.6MB/s eta 0:00:01\r\u001b[K     |█████████████████▎              | 1.8MB 17.6MB/s eta 0:00:01\r\u001b[K     |█████████████████▎              | 1.8MB 17.6MB/s eta 0:00:01\r\u001b[K     |█████████████████▍              | 1.8MB 17.6MB/s eta 0:00:01\r\u001b[K     |█████████████████▌              | 1.8MB 17.6MB/s eta 0:00:01\r\u001b[K     |█████████████████▋              | 1.9MB 17.6MB/s eta 0:00:01\r\u001b[K     |█████████████████▊              | 1.9MB 17.6MB/s eta 0:00:01\r\u001b[K     |█████████████████▉              | 1.9MB 17.6MB/s eta 0:00:01\r\u001b[K     |██████████████████              | 1.9MB 17.6MB/s eta 0:00:01\r\u001b[K     |██████████████████              | 1.9MB 17.6MB/s eta 0:00:01\r\u001b[K     |██████████████████              | 1.9MB 17.6MB/s eta 0:00:01\r\u001b[K     |██████████████████▏             | 1.9MB 17.6MB/s eta 0:00:01\r\u001b[K     |██████████████████▎             | 1.9MB 17.6MB/s eta 0:00:01\r\u001b[K     |██████████████████▍             | 1.9MB 17.6MB/s eta 0:00:01\r\u001b[K     |██████████████████▌             | 1.9MB 17.6MB/s eta 0:00:01\r\u001b[K     |██████████████████▋             | 2.0MB 17.6MB/s eta 0:00:01\r\u001b[K     |██████████████████▊             | 2.0MB 17.6MB/s eta 0:00:01\r\u001b[K     |██████████████████▉             | 2.0MB 17.6MB/s eta 0:00:01\r\u001b[K     |███████████████████             | 2.0MB 17.6MB/s eta 0:00:01\r\u001b[K     |███████████████████             | 2.0MB 17.6MB/s eta 0:00:01\r\u001b[K     |███████████████████             | 2.0MB 17.6MB/s eta 0:00:01\r\u001b[K     |███████████████████▏            | 2.0MB 17.6MB/s eta 0:00:01\r\u001b[K     |███████████████████▎            | 2.0MB 17.6MB/s eta 0:00:01\r\u001b[K     |███████████████████▍            | 2.0MB 17.6MB/s eta 0:00:01\r\u001b[K     |███████████████████▌            | 2.0MB 17.6MB/s eta 0:00:01\r\u001b[K     |███████████████████▋            | 2.1MB 17.6MB/s eta 0:00:01\r\u001b[K     |███████████████████▊            | 2.1MB 17.6MB/s eta 0:00:01\r\u001b[K     |███████████████████▊            | 2.1MB 17.6MB/s eta 0:00:01\r\u001b[K     |███████████████████▉            | 2.1MB 17.6MB/s eta 0:00:01\r\u001b[K     |████████████████████            | 2.1MB 17.6MB/s eta 0:00:01\r\u001b[K     |████████████████████            | 2.1MB 17.6MB/s eta 0:00:01\r\u001b[K     |████████████████████▏           | 2.1MB 17.6MB/s eta 0:00:01\r\u001b[K     |████████████████████▎           | 2.1MB 17.6MB/s eta 0:00:01\r\u001b[K     |████████████████████▍           | 2.1MB 17.6MB/s eta 0:00:01\r\u001b[K     |████████████████████▌           | 2.2MB 17.6MB/s eta 0:00:01\r\u001b[K     |████████████████████▌           | 2.2MB 17.6MB/s eta 0:00:01\r\u001b[K     |████████████████████▋           | 2.2MB 17.6MB/s eta 0:00:01\r\u001b[K     |████████████████████▊           | 2.2MB 17.6MB/s eta 0:00:01\r\u001b[K     |████████████████████▉           | 2.2MB 17.6MB/s eta 0:00:01\r\u001b[K     |█████████████████████           | 2.2MB 17.6MB/s eta 0:00:01\r\u001b[K     |█████████████████████           | 2.2MB 17.6MB/s eta 0:00:01\r\u001b[K     |█████████████████████▏          | 2.2MB 17.6MB/s eta 0:00:01\r\u001b[K     |█████████████████████▎          | 2.2MB 17.6MB/s eta 0:00:01\r\u001b[K     |█████████████████████▎          | 2.2MB 17.6MB/s eta 0:00:01\r\u001b[K     |█████████████████████▍          | 2.3MB 17.6MB/s eta 0:00:01\r\u001b[K     |█████████████████████▌          | 2.3MB 17.6MB/s eta 0:00:01\r\u001b[K     |█████████████████████▋          | 2.3MB 17.6MB/s eta 0:00:01\r\u001b[K     |█████████████████████▊          | 2.3MB 17.6MB/s eta 0:00:01\r\u001b[K     |█████████████████████▉          | 2.3MB 17.6MB/s eta 0:00:01\r\u001b[K     |██████████████████████          | 2.3MB 17.6MB/s eta 0:00:01\r\u001b[K     |██████████████████████          | 2.3MB 17.6MB/s eta 0:00:01\r\u001b[K     |██████████████████████          | 2.3MB 17.6MB/s eta 0:00:01\r\u001b[K     |██████████████████████▏         | 2.3MB 17.6MB/s eta 0:00:01\r\u001b[K     |██████████████████████▎         | 2.3MB 17.6MB/s eta 0:00:01\r\u001b[K     |██████████████████████▍         | 2.4MB 17.6MB/s eta 0:00:01\r\u001b[K     |██████████████████████▌         | 2.4MB 17.6MB/s eta 0:00:01\r\u001b[K     |██████████████████████▋         | 2.4MB 17.6MB/s eta 0:00:01\r\u001b[K     |██████████████████████▊         | 2.4MB 17.6MB/s eta 0:00:01\r\u001b[K     |██████████████████████▉         | 2.4MB 17.6MB/s eta 0:00:01\r\u001b[K     |██████████████████████▉         | 2.4MB 17.6MB/s eta 0:00:01\r\u001b[K     |███████████████████████         | 2.4MB 17.6MB/s eta 0:00:01\r\u001b[K     |███████████████████████         | 2.4MB 17.6MB/s eta 0:00:01\r\u001b[K     |███████████████████████▏        | 2.4MB 17.6MB/s eta 0:00:01\r\u001b[K     |███████████████████████▎        | 2.4MB 17.6MB/s eta 0:00:01\r\u001b[K     |███████████████████████▍        | 2.5MB 17.6MB/s eta 0:00:01\r\u001b[K     |███████████████████████▌        | 2.5MB 17.6MB/s eta 0:00:01\r\u001b[K     |███████████████████████▋        | 2.5MB 17.6MB/s eta 0:00:01\r\u001b[K     |███████████████████████▋        | 2.5MB 17.6MB/s eta 0:00:01\r\u001b[K     |███████████████████████▊        | 2.5MB 17.6MB/s eta 0:00:01\r\u001b[K     |███████████████████████▉        | 2.5MB 17.6MB/s eta 0:00:01\r\u001b[K     |████████████████████████        | 2.5MB 17.6MB/s eta 0:00:01\r\u001b[K     |████████████████████████        | 2.5MB 17.6MB/s eta 0:00:01\r\u001b[K     |████████████████████████▏       | 2.5MB 17.6MB/s eta 0:00:01\r\u001b[K     |████████████████████████▎       | 2.5MB 17.6MB/s eta 0:00:01\r\u001b[K     |████████████████████████▍       | 2.6MB 17.6MB/s eta 0:00:01\r\u001b[K     |████████████████████████▍       | 2.6MB 17.6MB/s eta 0:00:01\r\u001b[K     |████████████████████████▌       | 2.6MB 17.6MB/s eta 0:00:01\r\u001b[K     |████████████████████████▋       | 2.6MB 17.6MB/s eta 0:00:01\r\u001b[K     |████████████████████████▊       | 2.6MB 17.6MB/s eta 0:00:01\r\u001b[K     |████████████████████████▉       | 2.6MB 17.6MB/s eta 0:00:01\r\u001b[K     |█████████████████████████       | 2.6MB 17.6MB/s eta 0:00:01\r\u001b[K     |█████████████████████████       | 2.6MB 17.6MB/s eta 0:00:01\r\u001b[K     |█████████████████████████▏      | 2.6MB 17.6MB/s eta 0:00:01\r\u001b[K     |█████████████████████████▏      | 2.7MB 17.6MB/s eta 0:00:01\r\u001b[K     |█████████████████████████▎      | 2.7MB 17.6MB/s eta 0:00:01\r\u001b[K     |█████████████████████████▍      | 2.7MB 17.6MB/s eta 0:00:01\r\u001b[K     |█████████████████████████▌      | 2.7MB 17.6MB/s eta 0:00:01\r\u001b[K     |█████████████████████████▋      | 2.7MB 17.6MB/s eta 0:00:01\r\u001b[K     |█████████████████████████▊      | 2.7MB 17.6MB/s eta 0:00:01\r\u001b[K     |█████████████████████████▉      | 2.7MB 17.6MB/s eta 0:00:01\r\u001b[K     |██████████████████████████      | 2.7MB 17.6MB/s eta 0:00:01\r\u001b[K     |██████████████████████████      | 2.7MB 17.6MB/s eta 0:00:01\r\u001b[K     |██████████████████████████      | 2.7MB 17.6MB/s eta 0:00:01\r\u001b[K     |██████████████████████████▏     | 2.8MB 17.6MB/s eta 0:00:01\r\u001b[K     |██████████████████████████▎     | 2.8MB 17.6MB/s eta 0:00:01\r\u001b[K     |██████████████████████████▍     | 2.8MB 17.6MB/s eta 0:00:01\r\u001b[K     |██████████████████████████▌     | 2.8MB 17.6MB/s eta 0:00:01\r\u001b[K     |██████████████████████████▋     | 2.8MB 17.6MB/s eta 0:00:01\r\u001b[K     |██████████████████████████▊     | 2.8MB 17.6MB/s eta 0:00:01\r\u001b[K     |██████████████████████████▊     | 2.8MB 17.6MB/s eta 0:00:01\r\u001b[K     |██████████████████████████▉     | 2.8MB 17.6MB/s eta 0:00:01\r\u001b[K     |███████████████████████████     | 2.8MB 17.6MB/s eta 0:00:01\r\u001b[K     |███████████████████████████     | 2.8MB 17.6MB/s eta 0:00:01\r\u001b[K     |███████████████████████████▏    | 2.9MB 17.6MB/s eta 0:00:01\r\u001b[K     |███████████████████████████▎    | 2.9MB 17.6MB/s eta 0:00:01\r\u001b[K     |███████████████████████████▍    | 2.9MB 17.6MB/s eta 0:00:01\r\u001b[K     |███████████████████████████▌    | 2.9MB 17.6MB/s eta 0:00:01\r\u001b[K     |███████████████████████████▌    | 2.9MB 17.6MB/s eta 0:00:01\r\u001b[K     |███████████████████████████▋    | 2.9MB 17.6MB/s eta 0:00:01\r\u001b[K     |███████████████████████████▊    | 2.9MB 17.6MB/s eta 0:00:01\r\u001b[K     |███████████████████████████▉    | 2.9MB 17.6MB/s eta 0:00:01\r\u001b[K     |████████████████████████████    | 2.9MB 17.6MB/s eta 0:00:01\r\u001b[K     |████████████████████████████    | 2.9MB 17.6MB/s eta 0:00:01\r\u001b[K     |████████████████████████████▏   | 3.0MB 17.6MB/s eta 0:00:01\r\u001b[K     |████████████████████████████▎   | 3.0MB 17.6MB/s eta 0:00:01\r\u001b[K     |████████████████████████████▍   | 3.0MB 17.6MB/s eta 0:00:01\r\u001b[K     |████████████████████████████▍   | 3.0MB 17.6MB/s eta 0:00:01\r\u001b[K     |████████████████████████████▌   | 3.0MB 17.6MB/s eta 0:00:01\r\u001b[K     |████████████████████████████▋   | 3.0MB 17.6MB/s eta 0:00:01\r\u001b[K     |████████████████████████████▊   | 3.0MB 17.6MB/s eta 0:00:01\r\u001b[K     |████████████████████████████▉   | 3.0MB 17.6MB/s eta 0:00:01\r\u001b[K     |█████████████████████████████   | 3.0MB 17.6MB/s eta 0:00:01\r\u001b[K     |█████████████████████████████   | 3.1MB 17.6MB/s eta 0:00:01\r\u001b[K     |█████████████████████████████▏  | 3.1MB 17.6MB/s eta 0:00:01\r\u001b[K     |█████████████████████████████▏  | 3.1MB 17.6MB/s eta 0:00:01\r\u001b[K     |█████████████████████████████▎  | 3.1MB 17.6MB/s eta 0:00:01\r\u001b[K     |█████████████████████████████▍  | 3.1MB 17.6MB/s eta 0:00:01\r\u001b[K     |█████████████████████████████▌  | 3.1MB 17.6MB/s eta 0:00:01\r\u001b[K     |█████████████████████████████▋  | 3.1MB 17.6MB/s eta 0:00:01\r\u001b[K     |█████████████████████████████▊  | 3.1MB 17.6MB/s eta 0:00:01\r\u001b[K     |█████████████████████████████▉  | 3.1MB 17.6MB/s eta 0:00:01\r\u001b[K     |██████████████████████████████  | 3.1MB 17.6MB/s eta 0:00:01\r\u001b[K     |██████████████████████████████  | 3.2MB 17.6MB/s eta 0:00:01\r\u001b[K     |██████████████████████████████  | 3.2MB 17.6MB/s eta 0:00:01\r\u001b[K     |██████████████████████████████▏ | 3.2MB 17.6MB/s eta 0:00:01\r\u001b[K     |██████████████████████████████▎ | 3.2MB 17.6MB/s eta 0:00:01\r\u001b[K     |██████████████████████████████▍ | 3.2MB 17.6MB/s eta 0:00:01\r\u001b[K     |██████████████████████████████▌ | 3.2MB 17.6MB/s eta 0:00:01\r\u001b[K     |██████████████████████████████▋ | 3.2MB 17.6MB/s eta 0:00:01\r\u001b[K     |██████████████████████████████▊ | 3.2MB 17.6MB/s eta 0:00:01\r\u001b[K     |██████████████████████████████▊ | 3.2MB 17.6MB/s eta 0:00:01\r\u001b[K     |██████████████████████████████▉ | 3.2MB 17.6MB/s eta 0:00:01\r\u001b[K     |███████████████████████████████ | 3.3MB 17.6MB/s eta 0:00:01\r\u001b[K     |███████████████████████████████ | 3.3MB 17.6MB/s eta 0:00:01\r\u001b[K     |███████████████████████████████▏| 3.3MB 17.6MB/s eta 0:00:01\r\u001b[K     |███████████████████████████████▎| 3.3MB 17.6MB/s eta 0:00:01\r\u001b[K     |███████████████████████████████▍| 3.3MB 17.6MB/s eta 0:00:01\r\u001b[K     |███████████████████████████████▌| 3.3MB 17.6MB/s eta 0:00:01\r\u001b[K     |███████████████████████████████▌| 3.3MB 17.6MB/s eta 0:00:01\r\u001b[K     |███████████████████████████████▋| 3.3MB 17.6MB/s eta 0:00:01\r\u001b[K     |███████████████████████████████▊| 3.3MB 17.6MB/s eta 0:00:01\r\u001b[K     |███████████████████████████████▉| 3.3MB 17.6MB/s eta 0:00:01\r\u001b[K     |████████████████████████████████| 3.4MB 17.6MB/s eta 0:00:01\r\u001b[K     |████████████████████████████████| 3.4MB 17.6MB/s \n",
            "\u001b[?25h"
          ],
          "name": "stdout"
        }
      ]
    },
    {
      "cell_type": "markdown",
      "metadata": {
        "id": "5w_XlxN1IsRJ"
      },
      "source": [
        "You will use the AdamW optimizer from [tensorflow/models](https://github.com/tensorflow/models)."
      ]
    },
    {
      "cell_type": "code",
      "metadata": {
        "id": "b-P1ZOA0FkVJ",
        "outputId": "840b2c0c-3aae-4a61-de02-9734b548a9e4",
        "colab": {
          "base_uri": "https://localhost:8080/"
        }
      },
      "source": [
        "!pip install -q tf-models-official"
      ],
      "execution_count": 2,
      "outputs": [
        {
          "output_type": "stream",
          "text": [
            "\u001b[K     |████████████████████████████████| 1.1MB 14.2MB/s \n",
            "\u001b[K     |████████████████████████████████| 358kB 61.6MB/s \n",
            "\u001b[K     |████████████████████████████████| 102kB 13.7MB/s \n",
            "\u001b[K     |████████████████████████████████| 174kB 51.2MB/s \n",
            "\u001b[K     |████████████████████████████████| 51kB 8.5MB/s \n",
            "\u001b[K     |████████████████████████████████| 645kB 55.2MB/s \n",
            "\u001b[K     |████████████████████████████████| 37.6MB 79kB/s \n",
            "\u001b[K     |████████████████████████████████| 1.2MB 51.0MB/s \n",
            "\u001b[?25h  Building wheel for py-cpuinfo (setup.py) ... \u001b[?25l\u001b[?25hdone\n",
            "  Building wheel for seqeval (setup.py) ... \u001b[?25l\u001b[?25hdone\n"
          ],
          "name": "stdout"
        }
      ]
    },
    {
      "cell_type": "code",
      "metadata": {
        "id": "_XgTpm9ZxoN9"
      },
      "source": [
        "import os\n",
        "import shutil\n",
        "\n",
        "import tensorflow as tf\n",
        "import tensorflow_hub as hub\n",
        "import tensorflow_text as text\n",
        "from official.nlp import optimization  # to create AdamW optmizer\n",
        "\n",
        "import matplotlib.pyplot as plt\n",
        "\n",
        "tf.get_logger().setLevel('ERROR')"
      ],
      "execution_count": 3,
      "outputs": []
    },
    {
      "cell_type": "markdown",
      "metadata": {
        "id": "q6MugfEgDRpY"
      },
      "source": [
        "## Sentiment Analysis\n",
        "\n",
        "This notebook trains a sentiment analysis model to classify movie reviews as *positive* or *negative*, based on the text of the review.\n",
        "\n",
        "You'll use the [Large Movie Review Dataset](https://ai.stanford.edu/~amaas/data/sentiment/) that contains the text of 50,000 movie reviews from the [Internet Movie Database](https://www.imdb.com/)."
      ]
    },
    {
      "cell_type": "markdown",
      "metadata": {
        "id": "Vnvd4mrtPHHV"
      },
      "source": [
        "### Download the IMDB dataset\n",
        "\n",
        "Let's download and extract the dataset, then explore the directory structure.\n"
      ]
    },
    {
      "cell_type": "code",
      "metadata": {
        "id": "pOdqCMoQDRJL",
        "outputId": "dd24cb7a-94e2-4536-b9f3-d4cef3de10ae",
        "colab": {
          "base_uri": "https://localhost:8080/"
        }
      },
      "source": [
        "url = 'https://ai.stanford.edu/~amaas/data/sentiment/aclImdb_v1.tar.gz'\n",
        "\n",
        "dataset = tf.keras.utils.get_file('aclImdb_v1.tar.gz', url,\n",
        "                                  untar=True, cache_dir='.',\n",
        "                                  cache_subdir='')\n",
        "\n",
        "dataset_dir = os.path.join(os.path.dirname(dataset), 'aclImdb')\n",
        "\n",
        "train_dir = os.path.join(dataset_dir, 'train')\n",
        "\n",
        "# remove unused folders to make it easier to load the data\n",
        "remove_dir = os.path.join(train_dir, 'unsup')\n",
        "shutil.rmtree(remove_dir)"
      ],
      "execution_count": 4,
      "outputs": [
        {
          "output_type": "stream",
          "text": [
            "Downloading data from https://ai.stanford.edu/~amaas/data/sentiment/aclImdb_v1.tar.gz\n",
            "84131840/84125825 [==============================] - 4s 0us/step\n"
          ],
          "name": "stdout"
        }
      ]
    },
    {
      "cell_type": "code",
      "metadata": {
        "id": "aPgSw2SJZkLn",
        "outputId": "3308e62a-b4a9-470e-88df-4343129f027d",
        "colab": {
          "base_uri": "https://localhost:8080/"
        }
      },
      "source": [
        "!ls -al\r\n"
      ],
      "execution_count": 6,
      "outputs": [
        {
          "output_type": "stream",
          "text": [
            "total 82176\n",
            "drwxr-xr-x 1 root root     4096 Jan 28 19:07 .\n",
            "drwxr-xr-x 1 root root     4096 Jan 28 19:05 ..\n",
            "drwxr-xr-x 4 7297 1000     4096 Jun 26  2011 aclImdb\n",
            "-rw-r--r-- 1 root root 84125825 Jan 28 19:07 aclImdb_v1.tar.gz.tar.gz\n",
            "drwxr-xr-x 1 root root     4096 Jan 26 17:12 .config\n",
            "drwxr-xr-x 1 root root     4096 Jan 20 17:27 sample_data\n"
          ],
          "name": "stdout"
        }
      ]
    },
    {
      "cell_type": "markdown",
      "metadata": {
        "id": "lN9lWCYfPo7b"
      },
      "source": [
        "Next, you will use the `text_dataset_from_directory` utility to create a labeled `tf.data.Dataset`.\n",
        "\n",
        "The IMDB dataset has already been divided into train and test, but it lacks a validation set. Let's create a validation set using an 80:20 split of the training data by using the `validation_split` argument below.\n",
        "\n",
        "Note:  When using the `validation_split` and `subset` arguments, make sure to either specify a random seed, or to pass `shuffle=False`, so that the validation and training splits have no overlap."
      ]
    },
    {
      "cell_type": "code",
      "metadata": {
        "id": "6IwI_2bcIeX8",
        "outputId": "5cfa2e5e-3992-40b3-e485-2d7232bd5a31",
        "colab": {
          "base_uri": "https://localhost:8080/"
        }
      },
      "source": [
        "AUTOTUNE = tf.data.AUTOTUNE\n",
        "batch_size = 32\n",
        "seed = 42\n",
        "\n",
        "raw_train_ds = tf.keras.preprocessing.text_dataset_from_directory(\n",
        "    'aclImdb/train',\n",
        "    batch_size=batch_size,\n",
        "    validation_split=0.2,\n",
        "    subset='training',\n",
        "    seed=seed)\n",
        "\n",
        "class_names = raw_train_ds.class_names\n",
        "train_ds = raw_train_ds.cache().prefetch(buffer_size=AUTOTUNE)\n",
        "\n",
        "val_ds = tf.keras.preprocessing.text_dataset_from_directory(\n",
        "    'aclImdb/train',\n",
        "    batch_size=batch_size,\n",
        "    validation_split=0.2,\n",
        "    subset='validation',\n",
        "    seed=seed)\n",
        "\n",
        "val_ds = val_ds.cache().prefetch(buffer_size=AUTOTUNE)\n",
        "\n",
        "test_ds = tf.keras.preprocessing.text_dataset_from_directory(\n",
        "    'aclImdb/test',\n",
        "    batch_size=batch_size)\n",
        "\n",
        "test_ds = test_ds.cache().prefetch(buffer_size=AUTOTUNE)"
      ],
      "execution_count": 5,
      "outputs": [
        {
          "output_type": "stream",
          "text": [
            "Found 25000 files belonging to 2 classes.\n",
            "Using 20000 files for training.\n",
            "Found 25000 files belonging to 2 classes.\n",
            "Using 5000 files for validation.\n",
            "Found 25000 files belonging to 2 classes.\n"
          ],
          "name": "stdout"
        }
      ]
    },
    {
      "cell_type": "markdown",
      "metadata": {
        "id": "HGm10A5HRGXp"
      },
      "source": [
        "Let's take a look at a few reviews."
      ]
    },
    {
      "cell_type": "code",
      "metadata": {
        "id": "JuxDkcvVIoev",
        "outputId": "868ee36e-c5f3-478a-d683-bff724c68fc2",
        "colab": {
          "base_uri": "https://localhost:8080/"
        }
      },
      "source": [
        "for text_batch, label_batch in train_ds.take(1):\n",
        "  for i in range(3):\n",
        "    print(f'Review: {text_batch.numpy()[i]}')\n",
        "    label = label_batch.numpy()[i]\n",
        "    print(f'Label : {label} ({class_names[label]})')"
      ],
      "execution_count": 7,
      "outputs": [
        {
          "output_type": "stream",
          "text": [
            "Review: b'\"Pandemonium\" is a horror movie spoof that comes off more stupid than funny. Believe me when I tell you, I love comedies. Especially comedy spoofs. \"Airplane\", \"The Naked Gun\" trilogy, \"Blazing Saddles\", \"High Anxiety\", and \"Spaceballs\" are some of my favorite comedies that spoof a particular genre. \"Pandemonium\" is not up there with those films. Most of the scenes in this movie had me sitting there in stunned silence because the movie wasn\\'t all that funny. There are a few laughs in the film, but when you watch a comedy, you expect to laugh a lot more than a few times and that\\'s all this film has going for it. Geez, \"Scream\" had more laughs than this film and that was more of a horror film. How bizarre is that?<br /><br />*1/2 (out of four)'\n",
            "Label : 0 (neg)\n",
            "Review: b\"David Mamet is a very interesting and a very un-equal director. His first movie 'House of Games' was the one I liked best, and it set a series of films with characters whose perspective of life changes as they get into complicated situations, and so does the perspective of the viewer.<br /><br />So is 'Homicide' which from the title tries to set the mind of the viewer to the usual crime drama. The principal characters are two cops, one Jewish and one Irish who deal with a racially charged area. The murder of an old Jewish shop owner who proves to be an ancient veteran of the Israeli Independence war triggers the Jewish identity in the mind and heart of the Jewish detective.<br /><br />This is were the flaws of the film are the more obvious. The process of awakening is theatrical and hard to believe, the group of Jewish militants is operatic, and the way the detective eventually walks to the final violent confrontation is pathetic. The end of the film itself is Mamet-like smart, but disappoints from a human emotional perspective.<br /><br />Joe Mantegna and William Macy give strong performances, but the flaws of the story are too evident to be easily compensated.\"\n",
            "Label : 0 (neg)\n",
            "Review: b'Great documentary about the lives of NY firefighters during the worst terrorist attack of all time.. That reason alone is why this should be a must see collectors item.. What shocked me was not only the attacks, but the\"High Fat Diet\" and physical appearance of some of these firefighters. I think a lot of Doctors would agree with me that,in the physical shape they were in, some of these firefighters would NOT of made it to the 79th floor carrying over 60 lbs of gear. Having said that i now have a greater respect for firefighters and i realize becoming a firefighter is a life altering job. The French have a history of making great documentary\\'s and that is what this is, a Great Documentary.....'\n",
            "Label : 1 (pos)\n"
          ],
          "name": "stdout"
        }
      ]
    },
    {
      "cell_type": "markdown",
      "metadata": {
        "id": "dX8FtlpGJRE6"
      },
      "source": [
        "## Loading models from TensorFlow Hub\n",
        "\n",
        "Here you can choose which BERT model you will load from TensorFlow Hub and fine-tune. There are multiple BERT models available.\n",
        "\n",
        "  - [BERT-Base](https://tfhub.dev/tensorflow/bert_en_uncased_L-12_H-768_A-12/3), [Uncased](https://tfhub.dev/tensorflow/bert_en_uncased_L-12_H-768_A-12/3) and [seven more models](https://tfhub.dev/google/collections/bert/1) with trained weights released by the original BERT authors.\n",
        "  - [Small BERTs](https://tfhub.dev/google/collections/bert/1) have the same general architecture but fewer and/or smaller Transformer blocks, which lets you explore tradeoffs between speed, size and quality.\n",
        "  - [ALBERT](https://tfhub.dev/google/collections/albert/1): four different sizes of \"A Lite BERT\" that reduces model size (but not computation time) by sharing parameters between layers.\n",
        "  - [BERT Experts](https://tfhub.dev/google/collections/experts/bert/1): eight models that all have the BERT-base architecture but offer a choice between different pre-training domains, to align more closely with the target task.\n",
        "  - [Electra](https://tfhub.dev/google/collections/electra/1) has the same architecture as BERT (in three different sizes), but gets pre-trained as a discriminator in a set-up that resembles a Generative Adversarial Network (GAN).\n",
        "  - BERT with Talking-Heads Attention and Gated GELU [[base](https://tfhub.dev/tensorflow/talkheads_ggelu_bert_en_base/1), [large](https://tfhub.dev/tensorflow/talkheads_ggelu_bert_en_large/1)] has two improvements to the core of the Transformer architecture.\n",
        "\n",
        "The model documentation on TensorFlow Hub has more details and references to the\n",
        "research literature. Follow the links above, or click on the [`tfhub.dev`](http://tfhub.dev) URL\n",
        "printed after the next cell execution.\n",
        "\n",
        "The suggestion is to start with a Small BERT (with fewer parameters) since they are faster to fine-tune. If you like a small model but with higher accuracy, ALBERT might be your next option. If you want even better accuracy, choose\n",
        "one of the classic BERT sizes or their recent refinements like Electra, Talking Heads, or a BERT Expert.\n",
        "\n",
        "Aside from the models available below, there are [multiple versions](https://tfhub.dev/google/collections/transformer_encoders_text/1) of the models that are larger and can yeld even better accuracy but they are too big to be fine-tuned on a single GPU. You will be able to do that on the [Solve GLUE tasks using BERT on a TPU colab](https://www.tensorflow.org/tutorials/text/solve_glue_tasks_using_bert_on_tpu).\n",
        "\n",
        "You'll see in the code below that switching the tfhub.dev URL is enough to try any of these models, because all the differences between them are encapsulated in the SavedModels from TF Hub."
      ]
    },
    {
      "cell_type": "code",
      "metadata": {
        "id": "y8_ctG55-uTX",
        "outputId": "d083e7df-3eb8-4753-bd82-ef109cf9f979",
        "colab": {
          "base_uri": "https://localhost:8080/"
        }
      },
      "source": [
        "#@title Choose a BERT model to fine-tune\n",
        "\n",
        "bert_model_name = 'small_bert/bert_en_uncased_L-4_H-512_A-8'  #@param [\"bert_en_uncased_L-12_H-768_A-12\", \"bert_en_cased_L-12_H-768_A-12\", \"bert_multi_cased_L-12_H-768_A-12\", \"small_bert/bert_en_uncased_L-2_H-128_A-2\", \"small_bert/bert_en_uncased_L-2_H-256_A-4\", \"small_bert/bert_en_uncased_L-2_H-512_A-8\", \"small_bert/bert_en_uncased_L-2_H-768_A-12\", \"small_bert/bert_en_uncased_L-4_H-128_A-2\", \"small_bert/bert_en_uncased_L-4_H-256_A-4\", \"small_bert/bert_en_uncased_L-4_H-512_A-8\", \"small_bert/bert_en_uncased_L-4_H-768_A-12\", \"small_bert/bert_en_uncased_L-6_H-128_A-2\", \"small_bert/bert_en_uncased_L-6_H-256_A-4\", \"small_bert/bert_en_uncased_L-6_H-512_A-8\", \"small_bert/bert_en_uncased_L-6_H-768_A-12\", \"small_bert/bert_en_uncased_L-8_H-128_A-2\", \"small_bert/bert_en_uncased_L-8_H-256_A-4\", \"small_bert/bert_en_uncased_L-8_H-512_A-8\", \"small_bert/bert_en_uncased_L-8_H-768_A-12\", \"small_bert/bert_en_uncased_L-10_H-128_A-2\", \"small_bert/bert_en_uncased_L-10_H-256_A-4\", \"small_bert/bert_en_uncased_L-10_H-512_A-8\", \"small_bert/bert_en_uncased_L-10_H-768_A-12\", \"small_bert/bert_en_uncased_L-12_H-128_A-2\", \"small_bert/bert_en_uncased_L-12_H-256_A-4\", \"small_bert/bert_en_uncased_L-12_H-512_A-8\", \"small_bert/bert_en_uncased_L-12_H-768_A-12\", \"albert_en_base\", \"electra_small\", \"electra_base\", \"experts_pubmed\", \"experts_wiki_books\", \"talking-heads_base\"]\n",
        "\n",
        "map_name_to_handle = {\n",
        "    'bert_en_uncased_L-12_H-768_A-12':\n",
        "        'https://tfhub.dev/tensorflow/bert_en_uncased_L-12_H-768_A-12/3',\n",
        "    'bert_en_cased_L-12_H-768_A-12':\n",
        "        'https://tfhub.dev/tensorflow/bert_en_cased_L-12_H-768_A-12/3',\n",
        "    'bert_multi_cased_L-12_H-768_A-12':\n",
        "        'https://tfhub.dev/tensorflow/bert_multi_cased_L-12_H-768_A-12/3',\n",
        "    'small_bert/bert_en_uncased_L-2_H-128_A-2':\n",
        "        'https://tfhub.dev/tensorflow/small_bert/bert_en_uncased_L-2_H-128_A-2/1',\n",
        "    'small_bert/bert_en_uncased_L-2_H-256_A-4':\n",
        "        'https://tfhub.dev/tensorflow/small_bert/bert_en_uncased_L-2_H-256_A-4/1',\n",
        "    'small_bert/bert_en_uncased_L-2_H-512_A-8':\n",
        "        'https://tfhub.dev/tensorflow/small_bert/bert_en_uncased_L-2_H-512_A-8/1',\n",
        "    'small_bert/bert_en_uncased_L-2_H-768_A-12':\n",
        "        'https://tfhub.dev/tensorflow/small_bert/bert_en_uncased_L-2_H-768_A-12/1',\n",
        "    'small_bert/bert_en_uncased_L-4_H-128_A-2':\n",
        "        'https://tfhub.dev/tensorflow/small_bert/bert_en_uncased_L-4_H-128_A-2/1',\n",
        "    'small_bert/bert_en_uncased_L-4_H-256_A-4':\n",
        "        'https://tfhub.dev/tensorflow/small_bert/bert_en_uncased_L-4_H-256_A-4/1',\n",
        "    'small_bert/bert_en_uncased_L-4_H-512_A-8':\n",
        "        'https://tfhub.dev/tensorflow/small_bert/bert_en_uncased_L-4_H-512_A-8/1',\n",
        "    'small_bert/bert_en_uncased_L-4_H-768_A-12':\n",
        "        'https://tfhub.dev/tensorflow/small_bert/bert_en_uncased_L-4_H-768_A-12/1',\n",
        "    'small_bert/bert_en_uncased_L-6_H-128_A-2':\n",
        "        'https://tfhub.dev/tensorflow/small_bert/bert_en_uncased_L-6_H-128_A-2/1',\n",
        "    'small_bert/bert_en_uncased_L-6_H-256_A-4':\n",
        "        'https://tfhub.dev/tensorflow/small_bert/bert_en_uncased_L-6_H-256_A-4/1',\n",
        "    'small_bert/bert_en_uncased_L-6_H-512_A-8':\n",
        "        'https://tfhub.dev/tensorflow/small_bert/bert_en_uncased_L-6_H-512_A-8/1',\n",
        "    'small_bert/bert_en_uncased_L-6_H-768_A-12':\n",
        "        'https://tfhub.dev/tensorflow/small_bert/bert_en_uncased_L-6_H-768_A-12/1',\n",
        "    'small_bert/bert_en_uncased_L-8_H-128_A-2':\n",
        "        'https://tfhub.dev/tensorflow/small_bert/bert_en_uncased_L-8_H-128_A-2/1',\n",
        "    'small_bert/bert_en_uncased_L-8_H-256_A-4':\n",
        "        'https://tfhub.dev/tensorflow/small_bert/bert_en_uncased_L-8_H-256_A-4/1',\n",
        "    'small_bert/bert_en_uncased_L-8_H-512_A-8':\n",
        "        'https://tfhub.dev/tensorflow/small_bert/bert_en_uncased_L-8_H-512_A-8/1',\n",
        "    'small_bert/bert_en_uncased_L-8_H-768_A-12':\n",
        "        'https://tfhub.dev/tensorflow/small_bert/bert_en_uncased_L-8_H-768_A-12/1',\n",
        "    'small_bert/bert_en_uncased_L-10_H-128_A-2':\n",
        "        'https://tfhub.dev/tensorflow/small_bert/bert_en_uncased_L-10_H-128_A-2/1',\n",
        "    'small_bert/bert_en_uncased_L-10_H-256_A-4':\n",
        "        'https://tfhub.dev/tensorflow/small_bert/bert_en_uncased_L-10_H-256_A-4/1',\n",
        "    'small_bert/bert_en_uncased_L-10_H-512_A-8':\n",
        "        'https://tfhub.dev/tensorflow/small_bert/bert_en_uncased_L-10_H-512_A-8/1',\n",
        "    'small_bert/bert_en_uncased_L-10_H-768_A-12':\n",
        "        'https://tfhub.dev/tensorflow/small_bert/bert_en_uncased_L-10_H-768_A-12/1',\n",
        "    'small_bert/bert_en_uncased_L-12_H-128_A-2':\n",
        "        'https://tfhub.dev/tensorflow/small_bert/bert_en_uncased_L-12_H-128_A-2/1',\n",
        "    'small_bert/bert_en_uncased_L-12_H-256_A-4':\n",
        "        'https://tfhub.dev/tensorflow/small_bert/bert_en_uncased_L-12_H-256_A-4/1',\n",
        "    'small_bert/bert_en_uncased_L-12_H-512_A-8':\n",
        "        'https://tfhub.dev/tensorflow/small_bert/bert_en_uncased_L-12_H-512_A-8/1',\n",
        "    'small_bert/bert_en_uncased_L-12_H-768_A-12':\n",
        "        'https://tfhub.dev/tensorflow/small_bert/bert_en_uncased_L-12_H-768_A-12/1',\n",
        "    'albert_en_base':\n",
        "        'https://tfhub.dev/tensorflow/albert_en_base/2',\n",
        "    'electra_small':\n",
        "        'https://tfhub.dev/google/electra_small/2',\n",
        "    'electra_base':\n",
        "        'https://tfhub.dev/google/electra_base/2',\n",
        "    'experts_pubmed':\n",
        "        'https://tfhub.dev/google/experts/bert/pubmed/2',\n",
        "    'experts_wiki_books':\n",
        "        'https://tfhub.dev/google/experts/bert/wiki_books/2',\n",
        "    'talking-heads_base':\n",
        "        'https://tfhub.dev/tensorflow/talkheads_ggelu_bert_en_base/1',\n",
        "}\n",
        "\n",
        "map_model_to_preprocess = {\n",
        "    'bert_en_uncased_L-12_H-768_A-12':\n",
        "        'https://tfhub.dev/tensorflow/bert_en_uncased_preprocess/3',\n",
        "    'bert_en_cased_L-12_H-768_A-12':\n",
        "        'https://tfhub.dev/tensorflow/bert_en_cased_preprocess/3',\n",
        "    'small_bert/bert_en_uncased_L-2_H-128_A-2':\n",
        "        'https://tfhub.dev/tensorflow/bert_en_uncased_preprocess/3',\n",
        "    'small_bert/bert_en_uncased_L-2_H-256_A-4':\n",
        "        'https://tfhub.dev/tensorflow/bert_en_uncased_preprocess/3',\n",
        "    'small_bert/bert_en_uncased_L-2_H-512_A-8':\n",
        "        'https://tfhub.dev/tensorflow/bert_en_uncased_preprocess/3',\n",
        "    'small_bert/bert_en_uncased_L-2_H-768_A-12':\n",
        "        'https://tfhub.dev/tensorflow/bert_en_uncased_preprocess/3',\n",
        "    'small_bert/bert_en_uncased_L-4_H-128_A-2':\n",
        "        'https://tfhub.dev/tensorflow/bert_en_uncased_preprocess/3',\n",
        "    'small_bert/bert_en_uncased_L-4_H-256_A-4':\n",
        "        'https://tfhub.dev/tensorflow/bert_en_uncased_preprocess/3',\n",
        "    'small_bert/bert_en_uncased_L-4_H-512_A-8':\n",
        "        'https://tfhub.dev/tensorflow/bert_en_uncased_preprocess/3',\n",
        "    'small_bert/bert_en_uncased_L-4_H-768_A-12':\n",
        "        'https://tfhub.dev/tensorflow/bert_en_uncased_preprocess/3',\n",
        "    'small_bert/bert_en_uncased_L-6_H-128_A-2':\n",
        "        'https://tfhub.dev/tensorflow/bert_en_uncased_preprocess/3',\n",
        "    'small_bert/bert_en_uncased_L-6_H-256_A-4':\n",
        "        'https://tfhub.dev/tensorflow/bert_en_uncased_preprocess/3',\n",
        "    'small_bert/bert_en_uncased_L-6_H-512_A-8':\n",
        "        'https://tfhub.dev/tensorflow/bert_en_uncased_preprocess/3',\n",
        "    'small_bert/bert_en_uncased_L-6_H-768_A-12':\n",
        "        'https://tfhub.dev/tensorflow/bert_en_uncased_preprocess/3',\n",
        "    'small_bert/bert_en_uncased_L-8_H-128_A-2':\n",
        "        'https://tfhub.dev/tensorflow/bert_en_uncased_preprocess/3',\n",
        "    'small_bert/bert_en_uncased_L-8_H-256_A-4':\n",
        "        'https://tfhub.dev/tensorflow/bert_en_uncased_preprocess/3',\n",
        "    'small_bert/bert_en_uncased_L-8_H-512_A-8':\n",
        "        'https://tfhub.dev/tensorflow/bert_en_uncased_preprocess/3',\n",
        "    'small_bert/bert_en_uncased_L-8_H-768_A-12':\n",
        "        'https://tfhub.dev/tensorflow/bert_en_uncased_preprocess/3',\n",
        "    'small_bert/bert_en_uncased_L-10_H-128_A-2':\n",
        "        'https://tfhub.dev/tensorflow/bert_en_uncased_preprocess/3',\n",
        "    'small_bert/bert_en_uncased_L-10_H-256_A-4':\n",
        "        'https://tfhub.dev/tensorflow/bert_en_uncased_preprocess/3',\n",
        "    'small_bert/bert_en_uncased_L-10_H-512_A-8':\n",
        "        'https://tfhub.dev/tensorflow/bert_en_uncased_preprocess/3',\n",
        "    'small_bert/bert_en_uncased_L-10_H-768_A-12':\n",
        "        'https://tfhub.dev/tensorflow/bert_en_uncased_preprocess/3',\n",
        "    'small_bert/bert_en_uncased_L-12_H-128_A-2':\n",
        "        'https://tfhub.dev/tensorflow/bert_en_uncased_preprocess/3',\n",
        "    'small_bert/bert_en_uncased_L-12_H-256_A-4':\n",
        "        'https://tfhub.dev/tensorflow/bert_en_uncased_preprocess/3',\n",
        "    'small_bert/bert_en_uncased_L-12_H-512_A-8':\n",
        "        'https://tfhub.dev/tensorflow/bert_en_uncased_preprocess/3',\n",
        "    'small_bert/bert_en_uncased_L-12_H-768_A-12':\n",
        "        'https://tfhub.dev/tensorflow/bert_en_uncased_preprocess/3',\n",
        "    'bert_multi_cased_L-12_H-768_A-12':\n",
        "        'https://tfhub.dev/tensorflow/bert_multi_cased_preprocess/3',\n",
        "    'albert_en_base':\n",
        "        'https://tfhub.dev/tensorflow/albert_en_preprocess/2',\n",
        "    'electra_small':\n",
        "        'https://tfhub.dev/tensorflow/bert_en_uncased_preprocess/3',\n",
        "    'electra_base':\n",
        "        'https://tfhub.dev/tensorflow/bert_en_uncased_preprocess/3',\n",
        "    'experts_pubmed':\n",
        "        'https://tfhub.dev/tensorflow/bert_en_uncased_preprocess/3',\n",
        "    'experts_wiki_books':\n",
        "        'https://tfhub.dev/tensorflow/bert_en_uncased_preprocess/3',\n",
        "    'talking-heads_base':\n",
        "        'https://tfhub.dev/tensorflow/bert_en_uncased_preprocess/3',\n",
        "}\n",
        "\n",
        "tfhub_handle_encoder = map_name_to_handle[bert_model_name]\n",
        "tfhub_handle_preprocess = map_model_to_preprocess[bert_model_name]\n",
        "\n",
        "print(f'BERT model selected           : {tfhub_handle_encoder}')\n",
        "print(f'Preprocess model auto-selected: {tfhub_handle_preprocess}')"
      ],
      "execution_count": 8,
      "outputs": [
        {
          "output_type": "stream",
          "text": [
            "BERT model selected           : https://tfhub.dev/tensorflow/small_bert/bert_en_uncased_L-4_H-512_A-8/1\n",
            "Preprocess model auto-selected: https://tfhub.dev/tensorflow/bert_en_uncased_preprocess/3\n"
          ],
          "name": "stdout"
        }
      ]
    },
    {
      "cell_type": "markdown",
      "metadata": {
        "id": "7WrcxxTRDdHi"
      },
      "source": [
        "## The preprocessing model\n",
        "\n",
        "Text inputs need to be transformed to numeric token ids and arranged in several Tensors before being input to BERT. TensorFlow Hub provides a matching preprocessing model for each of the BERT models discussed above, which implements this transformation using TF ops from the TF.text library. It is not necessary to run pure Python code outside your TensorFlow model to preprocess text.\n",
        "\n",
        "The preprocessing model must be the one referenced by the documentation of the BERT model, which you can read at the URL printed above. For BERT models from the drop-down above, the preprocessing model is selected automatically.\n",
        "\n",
        "Note: You will load the preprocessing model into a [hub.KerasLayer](https://www.tensorflow.org/hub/api_docs/python/hub/KerasLayer) to compose your fine-tuned model. This is the preferred API to load a TF2-style SavedModel from TF Hub into a Keras model."
      ]
    },
    {
      "cell_type": "code",
      "metadata": {
        "id": "0SQi-jWd_jzq"
      },
      "source": [
        "bert_preprocess_model = hub.KerasLayer(tfhub_handle_preprocess)"
      ],
      "execution_count": 9,
      "outputs": []
    },
    {
      "cell_type": "markdown",
      "metadata": {
        "id": "x4naBiEE_cZX"
      },
      "source": [
        "Let's try the preprocessing model on some text and see the output:"
      ]
    },
    {
      "cell_type": "code",
      "metadata": {
        "id": "r9-zCzJpnuwS",
        "outputId": "9e19c471-23f1-49c5-848d-e057e9d85712",
        "colab": {
          "base_uri": "https://localhost:8080/"
        }
      },
      "source": [
        "text_test = ['this is such an amazing movie!']\n",
        "text_preprocessed = bert_preprocess_model(text_test)\n",
        "\n",
        "print(f'Keys       : {list(text_preprocessed.keys())}')\n",
        "print(f'Shape      : {text_preprocessed[\"input_word_ids\"].shape}')\n",
        "print(f'Word Ids   : {text_preprocessed[\"input_word_ids\"][0, :12]}')\n",
        "print(f'Input Mask : {text_preprocessed[\"input_mask\"][0, :12]}')\n",
        "print(f'Type Ids   : {text_preprocessed[\"input_type_ids\"][0, :12]}')"
      ],
      "execution_count": 10,
      "outputs": [
        {
          "output_type": "stream",
          "text": [
            "Keys       : ['input_word_ids', 'input_mask', 'input_type_ids']\n",
            "Shape      : (1, 128)\n",
            "Word Ids   : [ 101 2023 2003 2107 2019 6429 3185  999  102    0    0    0]\n",
            "Input Mask : [1 1 1 1 1 1 1 1 1 0 0 0]\n",
            "Type Ids   : [0 0 0 0 0 0 0 0 0 0 0 0]\n"
          ],
          "name": "stdout"
        }
      ]
    },
    {
      "cell_type": "markdown",
      "metadata": {
        "id": "EqL7ihkN_862"
      },
      "source": [
        "As you can see, now you have the 3 outputs from the preprocessing that a BERT model would use (`input_words_id`, `input_mask` and `input_type_ids`).\n",
        "\n",
        "Some other important points:\n",
        "- The input is truncated to 128 tokens. The number of tokens can be customized and you can see more details on the [Solve GLUE tasks using BERT on a TPU colab](https://www.tensorflow.org/tutorials/text/solve_glue_tasks_using_bert_on_tpu).\n",
        "- The `input_type_ids` only have one value (0) because this is a single sentence input. For a multiple sentence input, it would have one number for each input.\n",
        "\n",
        "Since this text preprocessor is a TensorFlow model, It can be included in your model directly."
      ]
    },
    {
      "cell_type": "markdown",
      "metadata": {
        "id": "DKnLPSEmtp9i"
      },
      "source": [
        "## Using the BERT model\n",
        "\n",
        "Before putting BERT into your own model, let's take a look at its outputs. You will load it from TF Hub and see the returned values."
      ]
    },
    {
      "cell_type": "code",
      "metadata": {
        "id": "tXxYpK8ixL34"
      },
      "source": [
        "bert_model = hub.KerasLayer(tfhub_handle_encoder)"
      ],
      "execution_count": 11,
      "outputs": []
    },
    {
      "cell_type": "code",
      "metadata": {
        "id": "_OoF9mebuSZc",
        "outputId": "37872765-e46e-42cb-ba50-237e67ff8641",
        "colab": {
          "base_uri": "https://localhost:8080/"
        }
      },
      "source": [
        "bert_results = bert_model(text_preprocessed)\n",
        "\n",
        "print(f'Loaded BERT: {tfhub_handle_encoder}')\n",
        "print(f'Pooled Outputs Shape:{bert_results[\"pooled_output\"].shape}')\n",
        "print(f'Pooled Outputs Values:{bert_results[\"pooled_output\"][0, :12]}')\n",
        "print(f'Sequence Outputs Shape:{bert_results[\"sequence_output\"].shape}')\n",
        "print(f'Sequence Outputs Values:{bert_results[\"sequence_output\"][0, :12]}')"
      ],
      "execution_count": 12,
      "outputs": [
        {
          "output_type": "stream",
          "text": [
            "Loaded BERT: https://tfhub.dev/tensorflow/small_bert/bert_en_uncased_L-4_H-512_A-8/1\n",
            "Pooled Outputs Shape:(1, 512)\n",
            "Pooled Outputs Values:[ 0.7626285   0.9928097  -0.18611872  0.36673838  0.15233651  0.65504503\n",
            "  0.9681153  -0.9486271   0.00216202 -0.98777324  0.06842704 -0.97630584]\n",
            "Sequence Outputs Shape:(1, 128, 512)\n",
            "Sequence Outputs Values:[[-0.2894633   0.3432127   0.3323149  ...  0.21300851  0.71020794\n",
            "  -0.05771134]\n",
            " [-0.28742072  0.31981015 -0.23018585 ...  0.58455116 -0.21329728\n",
            "   0.72692126]\n",
            " [-0.6615698   0.6887679  -0.87433    ...  0.10877296 -0.26173288\n",
            "   0.47855446]\n",
            " ...\n",
            " [-0.22561117 -0.28925592 -0.0706448  ...  0.47566015  0.8327718\n",
            "   0.4002533 ]\n",
            " [-0.29824197 -0.27473164 -0.05450563 ...  0.48849764  1.0955356\n",
            "   0.1816339 ]\n",
            " [-0.4437818   0.00930747  0.07223698 ...  0.17290133  1.1833245\n",
            "   0.0789803 ]]\n"
          ],
          "name": "stdout"
        }
      ]
    },
    {
      "cell_type": "markdown",
      "metadata": {
        "id": "sm61jDrezAll"
      },
      "source": [
        "The BERT models return a map with 3 important keys: `pooled_output`, `sequence_output`, `encoder_outputs`:\n",
        "\n",
        "- `pooled_output` to represent each input sequence as a whole. The shape is `[batch_size, H]`. You can think of this as an embedding for the entire movie review.\n",
        "- `sequence_output` represents each input token in the context. The shape is `[batch_size, seq_length, H]`. You can think of this as a contextual embedding for every token in the movie review.\n",
        "- `encoder_outputs` are the intermediate activations of the `L` Transformer blocks. `outputs[\"encoder_outputs\"][i]` is a Tensor of shape `[batch_size, seq_length, 1024]` with the outputs of the i-th Transformer block, for `0 <= i < L`. The last value of the list is equal to `sequence_output`.\n",
        "\n",
        "For the fine-tuning you are going to use the `pooled_output` array."
      ]
    },
    {
      "cell_type": "markdown",
      "metadata": {
        "id": "pDNKfAXbDnJH"
      },
      "source": [
        "## Define your model\n",
        "\n",
        "You will create a very simple fine-tuned model, with the preprocessing model, the selected BERT model, one Dense and a Dropout layer.\n",
        "\n",
        "Note: for more information about the base model's input and output you can use just follow the model's url for documentation. Here specifically you don't need to worry about it because the preprocessing model will take care of that for you.\n"
      ]
    },
    {
      "cell_type": "code",
      "metadata": {
        "id": "aksj743St9ga"
      },
      "source": [
        "def build_classifier_model():\n",
        "  text_input = tf.keras.layers.Input(shape=(), dtype=tf.string, name='text')\n",
        "  preprocessing_layer = hub.KerasLayer(tfhub_handle_preprocess, name='preprocessing')\n",
        "  encoder_inputs = preprocessing_layer(text_input)\n",
        "  encoder = hub.KerasLayer(tfhub_handle_encoder, trainable=True, name='BERT_encoder')\n",
        "  outputs = encoder(encoder_inputs)\n",
        "  net = outputs['pooled_output']\n",
        "  net = tf.keras.layers.Dropout(0.1)(net)\n",
        "  net = tf.keras.layers.Dense(1, activation=None, name='classifier')(net)\n",
        "  return tf.keras.Model(text_input, net)"
      ],
      "execution_count": 13,
      "outputs": []
    },
    {
      "cell_type": "markdown",
      "metadata": {
        "id": "Zs4yhFraBuGQ"
      },
      "source": [
        "Let's check that the model runs with the output of the preprocessing model."
      ]
    },
    {
      "cell_type": "code",
      "metadata": {
        "id": "mGMF8AZcB2Zy",
        "outputId": "6f820388-ae98-45c8-8b7b-a2f027bc432f",
        "colab": {
          "base_uri": "https://localhost:8080/"
        }
      },
      "source": [
        "classifier_model = build_classifier_model()\n",
        "bert_raw_result = classifier_model(tf.constant(text_test))\n",
        "print(tf.sigmoid(bert_raw_result))"
      ],
      "execution_count": 15,
      "outputs": [
        {
          "output_type": "stream",
          "text": [
            "tf.Tensor([[0.68105626]], shape=(1, 1), dtype=float32)\n"
          ],
          "name": "stdout"
        }
      ]
    },
    {
      "cell_type": "markdown",
      "metadata": {
        "id": "ZTUzNV2JE2G3"
      },
      "source": [
        "The output is meaningless, of course, because the model has not been trained yet.\n",
        "\n",
        "Let's take a look at the model's structure."
      ]
    },
    {
      "cell_type": "code",
      "metadata": {
        "id": "0EmzyHZXKIpm",
        "outputId": "a242eed6-0f57-46d5-f2e5-e128112c18f0",
        "colab": {
          "base_uri": "https://localhost:8080/",
          "height": 466
        }
      },
      "source": [
        "tf.keras.utils.plot_model(classifier_model)"
      ],
      "execution_count": 16,
      "outputs": [
        {
          "output_type": "execute_result",
          "data": {
            "image/png": "[encoded data removed]",
            "text/plain": [
              "<IPython.core.display.Image object>"
            ]
          },
          "metadata": {
            "tags": []
          },
          "execution_count": 16
        }
      ]
    },
    {
      "cell_type": "markdown",
      "metadata": {
        "id": "WbUWoZMwc302"
      },
      "source": [
        "## Model training\n",
        "\n",
        "You now have all the pieces to train a model, including the preprocessing module, BERT encoder, data, and classifier."
      ]
    },
    {
      "cell_type": "markdown",
      "metadata": {
        "id": "WpJ3xcwDT56v"
      },
      "source": [
        "### Loss function\n",
        "\n",
        "Since this is a binary classification problem and the model outputs a probability (a single-unit layer), you'll use `losses.BinaryCrossentropy` loss function.\n"
      ]
    },
    {
      "cell_type": "code",
      "metadata": {
        "id": "OWPOZE-L3AgE"
      },
      "source": [
        "loss = tf.keras.losses.BinaryCrossentropy(from_logits=True)\n",
        "metrics = tf.metrics.BinaryAccuracy()"
      ],
      "execution_count": 17,
      "outputs": []
    },
    {
      "cell_type": "markdown",
      "metadata": {
        "id": "77psrpfzbxtp"
      },
      "source": [
        "### Optimizer\n",
        "\n",
        "For fine-tuning, let's use the same optimizer that BERT was originally trained with: the \"Adaptive Moments\" (Adam). This optimizer minimizes the prediction loss and does regularization by weight decay (not using moments), which is also known as [AdamW](https://arxiv.org/abs/1711.05101).\n",
        "\n",
        "For the learning rate (`init_lr`), we use the same schedule as BERT pre-training: linear decay of a notional initial learning rate, prefixed with a linear warm-up phase over the first 10% of training steps (`num_warmup_steps`). In line with the BERT paper, the initial learning rate is smaller for fine-tuning (best of 5e-5, 3e-5, 2e-5)."
      ]
    },
    {
      "cell_type": "code",
      "metadata": {
        "id": "P9eP2y9dbw32"
      },
      "source": [
        "epochs = 5\n",
        "steps_per_epoch = tf.data.experimental.cardinality(train_ds).numpy()\n",
        "num_train_steps = steps_per_epoch * epochs\n",
        "num_warmup_steps = int(0.1*num_train_steps)\n",
        "\n",
        "init_lr = 3e-5\n",
        "optimizer = optimization.create_optimizer(init_lr=init_lr,\n",
        "                                          num_train_steps=num_train_steps,\n",
        "                                          num_warmup_steps=num_warmup_steps,\n",
        "                                          optimizer_type='adamw')"
      ],
      "execution_count": 18,
      "outputs": []
    },
    {
      "cell_type": "markdown",
      "metadata": {
        "id": "SqlarlpC_v0g"
      },
      "source": [
        "### Loading the BERT model and training\n",
        "\n",
        "Using the `classifier_model` you created earlier, you can compile the model with the loss, metric and optimizer."
      ]
    },
    {
      "cell_type": "code",
      "metadata": {
        "id": "-7GPDhR98jsD"
      },
      "source": [
        "classifier_model.compile(optimizer=optimizer,\n",
        "                         loss=loss,\n",
        "                         metrics=metrics)"
      ],
      "execution_count": 19,
      "outputs": []
    },
    {
      "cell_type": "markdown",
      "metadata": {
        "id": "CpBuV5j2cS_b"
      },
      "source": [
        "Note: training time will vary depending on the complexity of the BERT model you have selected."
      ]
    },
    {
      "cell_type": "code",
      "metadata": {
        "id": "HtfDFAnN_Neu",
        "outputId": "971dff97-34b5-4837-a9ba-a779cb7a1620",
        "colab": {
          "base_uri": "https://localhost:8080/"
        }
      },
      "source": [
        "print(f'Training model with {tfhub_handle_encoder}')\n",
        "history = classifier_model.fit(x=train_ds,\n",
        "                               validation_data=val_ds,\n",
        "                               epochs=epochs)"
      ],
      "execution_count": 20,
      "outputs": [
        {
          "output_type": "stream",
          "text": [
            "Training model with https://tfhub.dev/tensorflow/small_bert/bert_en_uncased_L-4_H-512_A-8/1\n",
            "Epoch 1/5\n",
            "625/625 [==============================] - 170s 263ms/step - loss: 0.5813 - binary_accuracy: 0.6661 - val_loss: 0.3868 - val_binary_accuracy: 0.8370\n",
            "Epoch 2/5\n",
            "625/625 [==============================] - 162s 260ms/step - loss: 0.3559 - binary_accuracy: 0.8378 - val_loss: 0.3670 - val_binary_accuracy: 0.8430\n",
            "Epoch 3/5\n",
            "625/625 [==============================] - 163s 261ms/step - loss: 0.2694 - binary_accuracy: 0.8872 - val_loss: 0.3918 - val_binary_accuracy: 0.8486\n",
            "Epoch 4/5\n",
            "625/625 [==============================] - 163s 261ms/step - loss: 0.2059 - binary_accuracy: 0.9207 - val_loss: 0.4495 - val_binary_accuracy: 0.8526\n",
            "Epoch 5/5\n",
            "625/625 [==============================] - 166s 266ms/step - loss: 0.1637 - binary_accuracy: 0.9355 - val_loss: 0.4701 - val_binary_accuracy: 0.8522\n"
          ],
          "name": "stdout"
        }
      ]
    },
    {
      "cell_type": "markdown",
      "metadata": {
        "id": "uBthMlTSV8kn"
      },
      "source": [
        "### Evaluate the model\n",
        "\n",
        "Let's see how the model performs. Two values will be returned. Loss (a number which represents the error, lower values are better), and accuracy."
      ]
    },
    {
      "cell_type": "code",
      "metadata": {
        "id": "slqB-urBV9sP",
        "outputId": "029126bf-856b-445a-c0a7-54ea193a0774",
        "colab": {
          "base_uri": "https://localhost:8080/"
        }
      },
      "source": [
        "loss, accuracy = classifier_model.evaluate(test_ds)\n",
        "\n",
        "print(f'Loss: {loss}')\n",
        "print(f'Accuracy: {accuracy}')"
      ],
      "execution_count": 21,
      "outputs": [
        {
          "output_type": "stream",
          "text": [
            "782/782 [==============================] - 93s 118ms/step - loss: 0.4575 - binary_accuracy: 0.8532\n",
            "Loss: 0.4575316309928894\n",
            "Accuracy: 0.8532400131225586\n"
          ],
          "name": "stdout"
        }
      ]
    },
    {
      "cell_type": "markdown",
      "metadata": {
        "id": "uttWpgmSfzq9"
      },
      "source": [
        "### Plot the accuracy and loss over time\n",
        "\n",
        "Based on the `History` object returned by `model.fit()`. You can plot the training and validation loss for comparison, as well as the training and validation accuracy:"
      ]
    },
    {
      "cell_type": "code",
      "metadata": {
        "id": "fiythcODf0xo",
        "outputId": "2458b5c8-dce9-480f-8118-edab72010e74",
        "colab": {
          "base_uri": "https://localhost:8080/",
          "height": 438
        }
      },
      "source": [
        "history_dict = history.history\n",
        "print(history_dict.keys())\n",
        "\n",
        "acc = history_dict['binary_accuracy']\n",
        "val_acc = history_dict['val_binary_accuracy']\n",
        "loss = history_dict['loss']\n",
        "val_loss = history_dict['val_loss']\n",
        "\n",
        "epochs = range(1, len(acc) + 1)\n",
        "fig = plt.figure(figsize=(10, 6))\n",
        "fig.tight_layout()\n",
        "\n",
        "plt.subplot(2, 1, 1)\n",
        "# \"bo\" is for \"blue dot\"\n",
        "plt.plot(epochs, loss, 'r', label='Training loss')\n",
        "# b is for \"solid blue line\"\n",
        "plt.plot(epochs, val_loss, 'b', label='Validation loss')\n",
        "plt.title('Training and validation loss')\n",
        "# plt.xlabel('Epochs')\n",
        "plt.ylabel('Loss')\n",
        "plt.legend()\n",
        "\n",
        "plt.subplot(2, 1, 2)\n",
        "plt.plot(epochs, acc, 'r', label='Training acc')\n",
        "plt.plot(epochs, val_acc, 'b', label='Validation acc')\n",
        "plt.title('Training and validation accuracy')\n",
        "plt.xlabel('Epochs')\n",
        "plt.ylabel('Accuracy')\n",
        "plt.legend(loc='lower right')"
      ],
      "execution_count": 22,
      "outputs": [
        {
          "output_type": "stream",
          "text": [
            "dict_keys(['loss', 'binary_accuracy', 'val_loss', 'val_binary_accuracy'])\n"
          ],
          "name": "stdout"
        },
        {
          "output_type": "execute_result",
          "data": {
            "text/plain": [
              "<matplotlib.legend.Legend at 0x7f896a40e0f0>"
            ]
          },
          "metadata": {
            "tags": []
          },
          "execution_count": 22
        },
        {
          "output_type": "display_data",
          "data": {
            "image/png": "[encoded data removed]",
            "text/plain": [
              "<Figure size 720x432 with 2 Axes>"
            ]
          },
          "metadata": {
            "tags": [],
            "needs_background": "light"
          }
        }
      ]
    },
    {
      "cell_type": "markdown",
      "metadata": {
        "id": "WzJZCo-cf-Jf"
      },
      "source": [
        "In this plot, the red lines represents the training loss and accuracy, and the blue lines are the validation loss and accuracy."
      ]
    },
    {
      "cell_type": "markdown",
      "metadata": {
        "id": "Rtn7jewb6dg4"
      },
      "source": [
        "## Export for inference\n",
        "\n",
        "Now you just save your fine-tuned model for later use."
      ]
    },
    {
      "cell_type": "code",
      "metadata": {
        "id": "ShcvqJAgVera",
        "outputId": "e55b80fb-4cf5-4126-9323-ed14fd627649",
        "colab": {
          "base_uri": "https://localhost:8080/"
        }
      },
      "source": [
        "dataset_name = 'imdb'\n",
        "saved_model_path = './{}_bert'.format(dataset_name.replace('/', '_'))\n",
        "\n",
        "classifier_model.save(saved_model_path, include_optimizer=False)"
      ],
      "execution_count": 23,
      "outputs": [
        {
          "output_type": "stream",
          "text": [
            "WARNING:absl:Found untraced functions such as restored_function_body, restored_function_body, restored_function_body, restored_function_body, restored_function_body while saving (showing 5 of 310). These functions will not be directly callable after loading.\n",
            "WARNING:absl:Found untraced functions such as restored_function_body, restored_function_body, restored_function_body, restored_function_body, restored_function_body while saving (showing 5 of 310). These functions will not be directly callable after loading.\n"
          ],
          "name": "stderr"
        }
      ]
    },
    {
      "cell_type": "markdown",
      "metadata": {
        "id": "PbI25bS1vD7s"
      },
      "source": [
        "Let's reload the model so you can try it side by side with the model that is still in memory."
      ]
    },
    {
      "cell_type": "code",
      "metadata": {
        "id": "gUEWVskZjEF0"
      },
      "source": [
        "reloaded_model = tf.saved_model.load(saved_model_path)"
      ],
      "execution_count": 24,
      "outputs": []
    },
    {
      "cell_type": "markdown",
      "metadata": {
        "id": "oyTappHTvNCz"
      },
      "source": [
        "Here you can test your model on any sentence you want, just add to the examples variable below."
      ]
    },
    {
      "cell_type": "code",
      "metadata": {
        "id": "VBWzH6exlCPS",
        "outputId": "4e35de56-c596-4e37-d4e3-c5d3e4bade36",
        "colab": {
          "base_uri": "https://localhost:8080/"
        }
      },
      "source": [
        "def print_my_examples(inputs, results):\n",
        "  result_for_printing = \\\n",
        "    [f'input: {inputs[i]:<30} : score: {results[i][0]:.6f}'\n",
        "                         for i in range(len(inputs))]\n",
        "  print(*result_for_printing, sep='\\n')\n",
        "  print()\n",
        "\n",
        "\n",
        "examples = [\n",
        "    'this is such an amazing movie!',  # this is the same sentence tried earlier\n",
        "    'The movie was overrated',\n",
        "    'The movie was meh.',\n",
        "    'The movie starts slow then gets good.',\n",
        "    'The movie was terrible...'\n",
        "]\n",
        "\n",
        "reloaded_results = tf.sigmoid(reloaded_model(tf.constant(examples)))\n",
        "original_results = tf.sigmoid(classifier_model(tf.constant(examples)))\n",
        "\n",
        "print('Results from the saved model:')\n",
        "print_my_examples(examples, reloaded_results)\n",
        "print('Results from the model in memory:')\n",
        "print_my_examples(examples, original_results)"
      ],
      "execution_count": 29,
      "outputs": [
        {
          "output_type": "stream",
          "text": [
            "Results from the saved model:\n",
            "input: this is such an amazing movie! : score: 0.999086\n",
            "input: The movie was overrated        : score: 0.056646\n",
            "input: The movie was meh.             : score: 0.964844\n",
            "input: The movie starts slow then gets good. : score: 0.018102\n",
            "input: The movie was terrible...      : score: 0.000664\n",
            "\n",
            "Results from the model in memory:\n",
            "input: this is such an amazing movie! : score: 0.999086\n",
            "input: The movie was overrated        : score: 0.056646\n",
            "input: The movie was meh.             : score: 0.964844\n",
            "input: The movie starts slow then gets good. : score: 0.018102\n",
            "input: The movie was terrible...      : score: 0.000664\n",
            "\n"
          ],
          "name": "stdout"
        }
      ]
    },
    {
      "cell_type": "markdown",
      "metadata": {
        "id": "3cOmih754Y_M"
      },
      "source": [
        "If you want to use your model on [TF Serving](https://www.tensorflow.org/tfx/guide/serving), remember that it will call your SavedModel through one of its named signatures. In Python, you can test them as follows:"
      ]
    },
    {
      "cell_type": "code",
      "metadata": {
        "id": "0FdVD3973S-O",
        "outputId": "9a6db3be-9e1a-4de8-d1b5-0cd5029470ab",
        "colab": {
          "base_uri": "https://localhost:8080/"
        }
      },
      "source": [
        "serving_results = reloaded_model \\\n",
        "            .signatures['serving_default'](tf.constant(examples))\n",
        "\n",
        "serving_results = tf.sigmoid(serving_results['classifier'])\n",
        "\n",
        "print_my_examples(examples, serving_results)"
      ],
      "execution_count": 30,
      "outputs": [
        {
          "output_type": "stream",
          "text": [
            "input: this is such an amazing movie! : score: 0.999086\n",
            "input: The movie was overrated        : score: 0.056646\n",
            "input: The movie was meh.             : score: 0.964844\n",
            "input: The movie starts slow then gets good. : score: 0.018102\n",
            "input: The movie was terrible...      : score: 0.000664\n",
            "\n"
          ],
          "name": "stdout"
        }
      ]
    },
    {
      "cell_type": "markdown",
      "metadata": {
        "id": "B4gN1KwReLPN"
      },
      "source": [
        "## Next steps\n",
        "\n",
        "As a next step, you can try [Solve GLUE tasks using BERT on a TPU tutorial](https://www.tensorflow.org/tutorials/text/solve_glue_tasks_using_bert_on_tpu) which runs on a TPU and shows you how to work with multiple inputs."
      ]
    }
  ]
}